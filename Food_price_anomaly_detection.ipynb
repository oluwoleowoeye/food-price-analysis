{
  "nbformat": 4,
  "nbformat_minor": 0,
  "metadata": {
    "colab": {
      "provenance": [],
      "include_colab_link": true
    },
    "kernelspec": {
      "name": "python3",
      "display_name": "Python 3"
    },
    "language_info": {
      "name": "python"
    }
  },
  "cells": [
    {
      "cell_type": "markdown",
      "metadata": {
        "id": "view-in-github",
        "colab_type": "text"
      },
      "source": [
        "<a href=\"https://colab.research.google.com/github/oluwoleowoeye/food-price-analysis/blob/main/Food_price_anomaly_detection.ipynb\" target=\"_parent\"><img src=\"https://colab.research.google.com/assets/colab-badge.svg\" alt=\"Open In Colab\"/></a>"
      ]
    },
    {
      "cell_type": "code",
      "source": [
        "import pandas as pd\n",
        "\n",
        "# 1. CORRECT GITHUB URL (use RAW link)\n",
        "github_raw_url = \"https://github.com/oluwoleowoeye/food-price-analysis/raw/main/Project_food%20prices%20anomalies%20indicator.xlsx\"\n",
        "\n",
        "# 2. LOAD EXCEL WITH EXPLICIT ENGINE\n",
        "try:\n",
        "    df = pd.read_excel(github_raw_url, sheet_name='Goal2', engine='openpyxl')  # 'Goal2' is case-sensitive!\n",
        "    print(\"Data loaded successfully!\")\n",
        "    print(df.head())\n",
        "except Exception as e:\n",
        "    print(\"Error:\", e)"
      ],
      "metadata": {
        "colab": {
          "base_uri": "https://localhost:8080/"
        },
        "id": "shRAXbxA1NaX",
        "outputId": "5475c0c7-bebf-431c-a17e-37356f85aecc",
        "collapsed": true
      },
      "execution_count": 32,
      "outputs": [
        {
          "output_type": "stream",
          "name": "stdout",
          "text": [
            "Data loaded successfully!\n",
            "   Goal Target Indicator   SeriesCode  \\\n",
            "0     2    2.c     2.c.1  AG_FPA_CFPI   \n",
            "1     2    2.c     2.c.1  AG_FPA_CFPI   \n",
            "2     2    2.c     2.c.1  AG_FPA_CFPI   \n",
            "3     2    2.c     2.c.1  AG_FPA_CFPI   \n",
            "4     2    2.c     2.c.1  AG_FPA_CFPI   \n",
            "\n",
            "                                   SeriesDescription  GeoAreaCode  \\\n",
            "0  Indicator of Food Price Anomalies (IFPA), by C...            4   \n",
            "1  Indicator of Food Price Anomalies (IFPA), by C...            4   \n",
            "2  Indicator of Food Price Anomalies (IFPA), by C...            4   \n",
            "3  Indicator of Food Price Anomalies (IFPA), by C...            4   \n",
            "4  Indicator of Food Price Anomalies (IFPA), by C...            4   \n",
            "\n",
            "   GeoAreaName  TimePeriod  Value  Time_Detail  ...  BasePeriod  \\\n",
            "0  Afghanistan        2010  -0.12         2010  ...         NaN   \n",
            "1  Afghanistan        2011  -0.17         2011  ...         NaN   \n",
            "2  Afghanistan        2012  -0.28         2012  ...         NaN   \n",
            "3  Afghanistan        2013   0.30         2013  ...         NaN   \n",
            "4  Afghanistan        2014   0.42         2014  ...         NaN   \n",
            "\n",
            "                                              Source  GeoInfoUrl  \\\n",
            "0  FAOSTAT Data/ Consumer Price Indices: http://w...         NaN   \n",
            "1  FAOSTAT Data/ Consumer Price Indices: http://w...         NaN   \n",
            "2  FAOSTAT Data/ Consumer Price Indices: http://w...         NaN   \n",
            "3  FAOSTAT Data/ Consumer Price Indices: http://w...         NaN   \n",
            "4  FAOSTAT Data/ Consumer Price Indices: http://w...         NaN   \n",
            "\n",
            "                                            FootNote Nature  \\\n",
            "0  Abnormally high defined as IFPA>=1. Moderately...      G   \n",
            "1  Abnormally high defined as IFPA>=1. Moderately...      G   \n",
            "2  Abnormally high defined as IFPA>=1. Moderately...      G   \n",
            "3  Abnormally high defined as IFPA>=1. Moderately...      G   \n",
            "4  Abnormally high defined as IFPA>=1. Moderately...      G   \n",
            "\n",
            "   Observation Status Reporting Type Severity of price levels Type of product  \\\n",
            "0                   A              G                      NaN             NaN   \n",
            "1                   A              G                      NaN             NaN   \n",
            "2                   A              G                      NaN             NaN   \n",
            "3                   A              G                      NaN             NaN   \n",
            "4                   A              G                      NaN             NaN   \n",
            "\n",
            "   Units  \n",
            "0  INDEX  \n",
            "1  INDEX  \n",
            "2  INDEX  \n",
            "3  INDEX  \n",
            "4  INDEX  \n",
            "\n",
            "[5 rows x 23 columns]\n"
          ]
        }
      ]
    },
    {
      "cell_type": "code",
      "source": [
        "\n",
        "print(\"Missing values in Main Data (Goal2):\")\n",
        "print(df_main.isnull().sum())\n",
        "# --- Handle missing values ---\n",
        "df_main_cleaned = df_main.copy()\n",
        "# A. Fill numerical columns (e.g., 'Value', 'UpperBound', 'LowerBound')\n",
        "numerical_cols = ['Value', 'UpperBound', 'LowerBound']\n",
        "for col in numerical_cols:\n",
        "    df_main_cleaned[col] = df_main_cleaned[col].fillna(df_main_cleaned[col].mean())\n",
        "\n",
        "# B. Fill categorical columns (e.g., 'Observation Status', 'Reporting Type')\n",
        "categorical_cols = ['Observation Status', 'Reporting Type', 'Units']\n",
        "for col in categorical_cols:\n",
        "    df_main_cleaned[col] = df_main_cleaned[col].fillna(\"Unknown\")\n",
        "\n",
        "# C. Drop rows if critical columns are missing (e.g., 'SeriesCode', 'TimePeriod')\n",
        "critical_cols = ['SeriesCode', 'TimePeriod', 'GeoAreaCode']\n",
        "df_main_cleaned = df_main_cleaned.dropna(subset=critical_cols)  # Fixed typo: 'dropha' → 'dropna'\n",
        "# Verify cleaning\n",
        "print(\"\\nMissing values after cleaning:\")\n",
        "print(df_main_cleaned.isnull().sum())  # Fixed typo: 'df main cleaned' → 'df_main_cleaned'\n",
        "# Additional verification\n",
        "print(\"\\nSample of cleaned data:\")\n",
        "print(df_main_cleaned.head(3))"
      ],
      "metadata": {
        "colab": {
          "base_uri": "https://localhost:8080/"
        },
        "id": "s3LYvrY86Sbj",
        "outputId": "c9514402-76c0-4da7-c299-1162ce1801db",
        "collapsed": true
      },
      "execution_count": 36,
      "outputs": [
        {
          "output_type": "stream",
          "name": "stdout",
          "text": [
            "Missing values in Main Data (Goal2):\n",
            "Goal                           0\n",
            "Target                         0\n",
            "Indicator                      0\n",
            "SeriesCode                     0\n",
            "SeriesDescription              0\n",
            "GeoAreaCode                    0\n",
            "GeoAreaName                    0\n",
            "TimePeriod                     0\n",
            "Value                        285\n",
            "Time_Detail                    0\n",
            "TimeCoverage                5817\n",
            "UpperBound                  5817\n",
            "LowerBound                  5817\n",
            "BasePeriod                  5817\n",
            "Source                       285\n",
            "GeoInfoUrl                  5817\n",
            "FootNote                       0\n",
            "Nature                       285\n",
            "Observation Status             0\n",
            "Reporting Type                 0\n",
            "Severity of price levels    5154\n",
            "Type of product             3477\n",
            "Units                          0\n",
            "dtype: int64\n",
            "\n",
            "Missing values after cleaning:\n",
            "Goal                           0\n",
            "Target                         0\n",
            "Indicator                      0\n",
            "SeriesCode                     0\n",
            "SeriesDescription              0\n",
            "GeoAreaCode                    0\n",
            "GeoAreaName                    0\n",
            "TimePeriod                     0\n",
            "Value                          0\n",
            "Time_Detail                    0\n",
            "TimeCoverage                5817\n",
            "UpperBound                  5817\n",
            "LowerBound                  5817\n",
            "BasePeriod                  5817\n",
            "Source                       285\n",
            "GeoInfoUrl                  5817\n",
            "FootNote                       0\n",
            "Nature                       285\n",
            "Observation Status             0\n",
            "Reporting Type                 0\n",
            "Severity of price levels    5154\n",
            "Type of product             3477\n",
            "Units                          0\n",
            "dtype: int64\n",
            "\n",
            "Sample of cleaned data:\n",
            "   Goal Target Indicator   SeriesCode  \\\n",
            "0     2    2.c     2.c.1  AG_FPA_CFPI   \n",
            "1     2    2.c     2.c.1  AG_FPA_CFPI   \n",
            "2     2    2.c     2.c.1  AG_FPA_CFPI   \n",
            "\n",
            "                                   SeriesDescription  GeoAreaCode  \\\n",
            "0  Indicator of Food Price Anomalies (IFPA), by C...            4   \n",
            "1  Indicator of Food Price Anomalies (IFPA), by C...            4   \n",
            "2  Indicator of Food Price Anomalies (IFPA), by C...            4   \n",
            "\n",
            "   GeoAreaName  TimePeriod  Value  Time_Detail  ...  BasePeriod  \\\n",
            "0  Afghanistan        2010  -0.12         2010  ...         NaN   \n",
            "1  Afghanistan        2011  -0.17         2011  ...         NaN   \n",
            "2  Afghanistan        2012  -0.28         2012  ...         NaN   \n",
            "\n",
            "                                              Source  GeoInfoUrl  \\\n",
            "0  FAOSTAT Data/ Consumer Price Indices: http://w...         NaN   \n",
            "1  FAOSTAT Data/ Consumer Price Indices: http://w...         NaN   \n",
            "2  FAOSTAT Data/ Consumer Price Indices: http://w...         NaN   \n",
            "\n",
            "                                            FootNote Nature  \\\n",
            "0  Abnormally high defined as IFPA>=1. Moderately...      G   \n",
            "1  Abnormally high defined as IFPA>=1. Moderately...      G   \n",
            "2  Abnormally high defined as IFPA>=1. Moderately...      G   \n",
            "\n",
            "   Observation Status Reporting Type Severity of price levels Type of product  \\\n",
            "0                   A              G                      NaN             NaN   \n",
            "1                   A              G                      NaN             NaN   \n",
            "2                   A              G                      NaN             NaN   \n",
            "\n",
            "   Units  \n",
            "0  INDEX  \n",
            "1  INDEX  \n",
            "2  INDEX  \n",
            "\n",
            "[3 rows x 23 columns]\n"
          ]
        }
      ]
    },
    {
      "cell_type": "code",
      "source": [],
      "metadata": {
        "id": "dcnWjcZRlCEb"
      },
      "execution_count": null,
      "outputs": []
    },
    {
      "cell_type": "code",
      "source": [
        "# Merge using the correct key columns:\n",
        "merged_df = pd.merge(\n",
        "    df_main_cleaned,\n",
        "    df_codes,\n",
        "    left_on='SeriesCode',   # Column in df_main_cleaned\n",
        "    right_on='Code',        # Column in df_codes (previously called 'CodeColumn')\n",
        "    how='left'\n",
        ")\n",
        "\n",
        "# Verify the merge\n",
        "print(\"Merged Data Columns:\", merged_df.columns.tolist())\n",
        "print(\"\\nSample Rows:\")\n",
        "print(merged_df.head())"
      ],
      "metadata": {
        "colab": {
          "base_uri": "https://localhost:8080/"
        },
        "id": "CT-0KMt860dd",
        "outputId": "335dc9c5-a496-499e-fe42-461af90e8758",
        "collapsed": true
      },
      "execution_count": 42,
      "outputs": [
        {
          "output_type": "stream",
          "name": "stdout",
          "text": [
            "Merged Data Columns: ['Goal', 'Target', 'Indicator', 'SeriesCode', 'SeriesDescription', 'GeoAreaCode', 'GeoAreaName', 'TimePeriod', 'Value', 'Time_Detail', 'TimeCoverage', 'UpperBound', 'LowerBound', 'BasePeriod', 'Source', 'GeoInfoUrl', 'FootNote', 'Nature', 'Observation Status', 'Reporting Type', 'Severity of price levels', 'Type of product', 'Units', 'Dimension', 'Code', 'Description']\n",
            "\n",
            "Sample Rows:\n",
            "   Goal Target Indicator   SeriesCode  \\\n",
            "0     2    2.c     2.c.1  AG_FPA_CFPI   \n",
            "1     2    2.c     2.c.1  AG_FPA_CFPI   \n",
            "2     2    2.c     2.c.1  AG_FPA_CFPI   \n",
            "3     2    2.c     2.c.1  AG_FPA_CFPI   \n",
            "4     2    2.c     2.c.1  AG_FPA_CFPI   \n",
            "\n",
            "                                   SeriesDescription  GeoAreaCode  \\\n",
            "0  Indicator of Food Price Anomalies (IFPA), by C...            4   \n",
            "1  Indicator of Food Price Anomalies (IFPA), by C...            4   \n",
            "2  Indicator of Food Price Anomalies (IFPA), by C...            4   \n",
            "3  Indicator of Food Price Anomalies (IFPA), by C...            4   \n",
            "4  Indicator of Food Price Anomalies (IFPA), by C...            4   \n",
            "\n",
            "   GeoAreaName  TimePeriod  Value  Time_Detail  ...  \\\n",
            "0  Afghanistan        2010  -0.12         2010  ...   \n",
            "1  Afghanistan        2011  -0.17         2011  ...   \n",
            "2  Afghanistan        2012  -0.28         2012  ...   \n",
            "3  Afghanistan        2013   0.30         2013  ...   \n",
            "4  Afghanistan        2014   0.42         2014  ...   \n",
            "\n",
            "                                            FootNote  Nature  \\\n",
            "0  Abnormally high defined as IFPA>=1. Moderately...       G   \n",
            "1  Abnormally high defined as IFPA>=1. Moderately...       G   \n",
            "2  Abnormally high defined as IFPA>=1. Moderately...       G   \n",
            "3  Abnormally high defined as IFPA>=1. Moderately...       G   \n",
            "4  Abnormally high defined as IFPA>=1. Moderately...       G   \n",
            "\n",
            "   Observation Status  Reporting Type Severity of price levels  \\\n",
            "0                   A               G                      NaN   \n",
            "1                   A               G                      NaN   \n",
            "2                   A               G                      NaN   \n",
            "3                   A               G                      NaN   \n",
            "4                   A               G                      NaN   \n",
            "\n",
            "   Type of product  Units Dimension Code Description  \n",
            "0              NaN  INDEX       NaN  NaN         NaN  \n",
            "1              NaN  INDEX       NaN  NaN         NaN  \n",
            "2              NaN  INDEX       NaN  NaN         NaN  \n",
            "3              NaN  INDEX       NaN  NaN         NaN  \n",
            "4              NaN  INDEX       NaN  NaN         NaN  \n",
            "\n",
            "[5 rows x 26 columns]\n"
          ]
        }
      ]
    },
    {
      "cell_type": "code",
      "source": [],
      "metadata": {
        "id": "PZzIxicrlTEh"
      },
      "execution_count": null,
      "outputs": []
    },
    {
      "cell_type": "code",
      "source": [
        "from sklearn.preprocessing import MinMaxScaler\n",
        "\n",
        "# Normalize 'Value' to [0, 1]\n",
        "scaler = MinMaxScaler()\n",
        "merged_df['Value_Normalized'] = scaler.fit_transform(merged_df[['Value']])\n",
        "\n",
        "# Optional: Standardize 'UpperBound' (mean=0, std=1)\n",
        "# from sklearn.preprocessing import StandardScaler\n",
        "# scaler = StandardScaler()\n",
        "# merged_df['UpperBound_Standardized'] = scaler.fit_transform(merged_df[['UpperBound']])\n",
        "\n",
        "print(\"\\nNormalized Data Sample:\")\n",
        "print(merged_df[['Value', 'Value_Normalized']].head())"
      ],
      "metadata": {
        "colab": {
          "base_uri": "https://localhost:8080/"
        },
        "id": "zpZX07Hg6-qN",
        "outputId": "aefbf174-157b-4710-890f-ff55a451d266",
        "collapsed": true
      },
      "execution_count": 43,
      "outputs": [
        {
          "output_type": "stream",
          "name": "stdout",
          "text": [
            "\n",
            "Normalized Data Sample:\n",
            "   Value  Value_Normalized\n",
            "0  -0.12          0.357010\n",
            "1  -0.17          0.356689\n",
            "2  -0.28          0.355982\n",
            "3   0.30          0.359707\n",
            "4   0.42          0.360478\n"
          ]
        }
      ]
    },
    {
      "cell_type": "code",
      "source": [
        "merged_df.to_excel(\"Cleaned_Data.xlsx\", index=False)"
      ],
      "metadata": {
        "id": "t4eLVmBAlgVl"
      },
      "execution_count": 46,
      "outputs": []
    },
    {
      "cell_type": "code",
      "metadata": {
        "collapsed": true,
        "colab": {
          "base_uri": "https://localhost:8080/"
        },
        "id": "FK9ixmAKoAEP",
        "outputId": "fb9d508b-3037-4d0f-9638-898cb645377c"
      },
      "source": [
        "# Identify columns with a high percentage of missing values\n",
        "missing_values_count = merged_df.isnull().sum()\n",
        "total_rows = len(merged_df)\n",
        "missing_values_percentage = (missing_values_count / total_rows) * 100\n",
        "\n",
        "# Set a threshold for dropping columns (e.g., drop if more than 50% missing)\n",
        "# Also explicitly include columns identified as having almost all missing values\n",
        "columns_to_drop = missing_values_percentage[missing_values_percentage > 50].index.tolist()\n",
        "explicitly_empty_cols = ['TimeCoverage', 'UpperBound', 'BasePeriod', 'GeoInfoUrl']\n",
        "columns_to_drop.extend(explicitly_empty_cols)\n",
        "\n",
        "# Remove duplicates in case any were added twice\n",
        "columns_to_drop = list(set(columns_to_drop))\n",
        "\n",
        "print(\"Columns to be dropped due to high missing values:\")\n",
        "print(columns_to_drop)\n",
        "\n",
        "# Drop the identified columns from the merged_df\n",
        "merged_df_cleaned_cols = merged_df.drop(columns=columns_to_drop)\n",
        "\n",
        "# Verify the columns remaining\n",
        "print(\"\\nColumns remaining after dropping:\")\n",
        "print(merged_df_cleaned_cols.columns.tolist())\n",
        "\n",
        "# Verify missing values in the new dataframe\n",
        "print(\"\\nMissing values in dataframe after dropping columns:\")\n",
        "print(merged_df_cleaned_cols.isnull().sum())"
      ],
      "execution_count": 47,
      "outputs": [
        {
          "output_type": "stream",
          "name": "stdout",
          "text": [
            "Columns to be dropped due to high missing values:\n",
            "['LowerBound', 'Severity of price levels', 'Code', 'GeoInfoUrl', 'UpperBound', 'BasePeriod', 'TimeCoverage', 'Dimension', 'Type of product', 'Description']\n",
            "\n",
            "Columns remaining after dropping:\n",
            "['Goal', 'Target', 'Indicator', 'SeriesCode', 'SeriesDescription', 'GeoAreaCode', 'GeoAreaName', 'TimePeriod', 'Value', 'Time_Detail', 'Source', 'FootNote', 'Nature', 'Observation Status', 'Reporting Type', 'Units', 'Value_Normalized']\n",
            "\n",
            "Missing values in dataframe after dropping columns:\n",
            "Goal                    0\n",
            "Target                  0\n",
            "Indicator               0\n",
            "SeriesCode              0\n",
            "SeriesDescription       0\n",
            "GeoAreaCode             0\n",
            "GeoAreaName             0\n",
            "TimePeriod              0\n",
            "Value                   0\n",
            "Time_Detail             0\n",
            "Source                285\n",
            "FootNote                0\n",
            "Nature                285\n",
            "Observation Status      0\n",
            "Reporting Type          0\n",
            "Units                   0\n",
            "Value_Normalized        0\n",
            "dtype: int64\n"
          ]
        }
      ]
    },
    {
      "cell_type": "code",
      "source": [],
      "metadata": {
        "id": "d9EknwBEoTCn"
      },
      "execution_count": null,
      "outputs": []
    },
    {
      "cell_type": "code",
      "metadata": {
        "id": "m2ziTdewoTcK",
        "outputId": "422e46df-0408-4da8-8c52-32413c46fd20",
        "colab": {
          "base_uri": "https://localhost:8080/"
        }
      },
      "source": [
        "# Save the cleaned data (with columns dropped) to an Excel file (.xlsx)\n",
        "output_excel_path_cleaned = 'cleaned_food_price_data.xlsx'\n",
        "# Ensure openpyxl is installed if not already: !pip install openpyxl\n",
        "merged_df_cleaned_cols.to_excel(output_excel_path_cleaned, index=False, engine='openpyxl')\n",
        "\n",
        "print(f\"Cleaned data (with columns dropped) saved to '{output_excel_path_cleaned}'\")"
      ],
      "execution_count": 49,
      "outputs": [
        {
          "output_type": "stream",
          "name": "stdout",
          "text": [
            "Cleaned data (with columns dropped) saved to 'cleaned_food_price_data.xlsx'\n"
          ]
        }
      ]
    }
  ]
}